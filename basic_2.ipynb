{
 "cells": [
  {
   "cell_type": "code",
   "execution_count": null,
   "metadata": {},
   "outputs": [],
   "source": []
  },
  {
   "cell_type": "code",
   "execution_count": 3,
   "metadata": {},
   "outputs": [
    {
     "name": "stdout",
     "output_type": "stream",
     "text": [
      "10 is greater than 15\n"
     ]
    }
   ],
   "source": [
    "i = 10\n",
    "if (i>15):\n",
    "    print(\"10 is less than 15\")\n",
    "    print(\"i am in if block\")\n",
    "else:\n",
    "    print(\"10 is greater than 15\")"
   ]
  },
  {
   "cell_type": "code",
   "execution_count": 5,
   "metadata": {},
   "outputs": [
    {
     "name": "stdout",
     "output_type": "stream",
     "text": [
      "i is smaller than 15\n",
      "i is smaller than 12\n"
     ]
    }
   ],
   "source": [
    "i = 10\n",
    "if (i == 10):\n",
    "    if (i < 15):\n",
    "        print(\"i is smaller than 15\")\n",
    "    if (i < 12):\n",
    "        print(\"i is smaller than 12\")\n",
    "    else:\n",
    "        print(\"i is greter than 15\")"
   ]
  },
  {
   "cell_type": "code",
   "execution_count": 6,
   "metadata": {},
   "outputs": [
    {
     "name": "stdout",
     "output_type": "stream",
     "text": [
      "i is 20\n"
     ]
    }
   ],
   "source": [
    "i = 20\n",
    "if (i == 10):\n",
    "    print(\"i is 10\")\n",
    "elif(i == 15):\n",
    "    print(\"i is 15\")\n",
    "elif(i == 20):\n",
    "    print(\"i is 20\")\n",
    "else:\n",
    "    print(\"i is not there\")\n",
    "    \n"
   ]
  },
  {
   "cell_type": "code",
   "execution_count": 11,
   "metadata": {},
   "outputs": [
    {
     "name": "stdout",
     "output_type": "stream",
     "text": [
      "the e**4 value is :54.598150033144236\n",
      "the value of log 2 with base 3 is :0.5\n"
     ]
    }
   ],
   "source": [
    "import math as m\n",
    "print(\"the e**4 value is :\", end=\"\")\n",
    "print(m.exp(4))\n",
    "\n",
    "print(\"the value of log 2 with base 3 is :\", end=\"\")\n",
    "print(m.log(2,4))\n",
    "      "
   ]
  },
  {
   "cell_type": "code",
   "execution_count": 1,
   "metadata": {},
   "outputs": [
    {
     "name": "stdout",
     "output_type": "stream",
     "text": [
      "enter the length 5\n",
      "enter the breadth 6\n",
      "it is not square\n"
     ]
    }
   ],
   "source": [
    "l = input(\"enter the length \")\n",
    "b = input(\"enter the breadth \")\n",
    "if (l == b ):\n",
    "    print(\"it is square\")\n",
    "else:\n",
    "    print(\"it is not square\")\n",
    "    "
   ]
  },
  {
   "cell_type": "code",
   "execution_count": 5,
   "metadata": {},
   "outputs": [
    {
     "ename": "TypeError",
     "evalue": "int() argument must be a string, a bytes-like object or a number, not 'range'",
     "output_type": "error",
     "traceback": [
      "\u001b[1;31m---------------------------------------------------------------------------\u001b[0m",
      "\u001b[1;31mTypeError\u001b[0m                                 Traceback (most recent call last)",
      "\u001b[1;32m<ipython-input-5-b2151acd5e6c>\u001b[0m in \u001b[0;36m<module>\u001b[1;34m\u001b[0m\n\u001b[1;32m----> 1\u001b[1;33m \u001b[0mage\u001b[0m \u001b[1;33m=\u001b[0m \u001b[0mint\u001b[0m\u001b[1;33m(\u001b[0m\u001b[0mrange\u001b[0m\u001b[1;33m(\u001b[0m\u001b[1;36m7\u001b[0m\u001b[1;33m,\u001b[0m\u001b[1;36m101\u001b[0m\u001b[1;33m)\u001b[0m\u001b[1;33m)\u001b[0m\u001b[1;33m\u001b[0m\u001b[1;33m\u001b[0m\u001b[0m\n\u001b[0m\u001b[0;32m      2\u001b[0m \u001b[1;32mif\u001b[0m \u001b[1;33m(\u001b[0m\u001b[0mage\u001b[0m\u001b[1;33m>\u001b[0m\u001b[1;36m18\u001b[0m\u001b[1;33m)\u001b[0m\u001b[1;33m:\u001b[0m\u001b[1;33m\u001b[0m\u001b[1;33m\u001b[0m\u001b[0m\n\u001b[0;32m      3\u001b[0m     \u001b[0mprint\u001b[0m\u001b[1;33m(\u001b[0m\u001b[1;34m\"you can drive\"\u001b[0m\u001b[1;33m)\u001b[0m\u001b[1;33m\u001b[0m\u001b[1;33m\u001b[0m\u001b[0m\n\u001b[0;32m      4\u001b[0m \u001b[1;32melif\u001b[0m \u001b[1;33m(\u001b[0m\u001b[0mage\u001b[0m\u001b[1;33m<\u001b[0m\u001b[1;36m18\u001b[0m\u001b[1;33m)\u001b[0m\u001b[1;33m:\u001b[0m\u001b[1;33m\u001b[0m\u001b[1;33m\u001b[0m\u001b[0m\n\u001b[0;32m      5\u001b[0m     \u001b[0mprint\u001b[0m\u001b[1;33m(\u001b[0m\u001b[1;34m\"you can not drive \"\u001b[0m\u001b[1;33m)\u001b[0m\u001b[1;33m\u001b[0m\u001b[1;33m\u001b[0m\u001b[0m\n",
      "\u001b[1;31mTypeError\u001b[0m: int() argument must be a string, a bytes-like object or a number, not 'range'"
     ]
    }
   ],
   "source": [
    "age = int(range(7,101))\n",
    "if (age>18):\n",
    "    print(\"you can drive\")\n",
    "elif (age<18):\n",
    "    print(\"you can not drive \")\n",
    "else:\n",
    "    print(\"we can't deciced \")"
   ]
  },
  {
   "cell_type": "code",
   "execution_count": 18,
   "metadata": {},
   "outputs": [
    {
     "name": "stdout",
     "output_type": "stream",
     "text": [
      "enter the first number 56\n",
      "enter the second number 2\n",
      " +,-,*,/,%,//,**+\n",
      "58\n"
     ]
    }
   ],
   "source": [
    "num1 = int(input(\"enter the first number \"))\n",
    "num2 = int(input(\"enter the second number \"))\n",
    "num3 = input(' +,-,*,/,%,//,**')\n",
    "\n",
    "if (num1==5 and num2==3 and num3== '+'):\n",
    "    print(\"10\")\n",
    "elif (num1==10 and num2==5 and num3=='-'):\n",
    "    print(\"25\")\n",
    "elif (num1==5 and num2==4 and num3=='*'):\n",
    "    print(\"30\")\n",
    "elif (num1==6 and num2==3 and num3=='/'):\n",
    "    print(\"6\")\n",
    "elif (num3=='+'):\n",
    "    print( num1+num2 )\n"
   ]
  },
  {
   "cell_type": "code",
   "execution_count": 21,
   "metadata": {},
   "outputs": [
    {
     "name": "stdout",
     "output_type": "stream",
     "text": [
      "year of service 2\n",
      "he not get bouns\n"
     ]
    }
   ],
   "source": [
    "x = int(input(\"year of service \"))\n",
    "if (x>5):\n",
    "    print(\"he get bouns of 5%\")\n",
    "else:\n",
    "    print(\"he not get bouns\")\n",
    "    "
   ]
  },
  {
   "cell_type": "code",
   "execution_count": 28,
   "metadata": {},
   "outputs": [
    {
     "name": "stdout",
     "output_type": "stream",
     "text": [
      "enter the marks 25\n",
      "F\n"
     ]
    }
   ],
   "source": [
    "marks = int(input(\"enter the marks \"))\n",
    "if (marks>=80):\n",
    "    print(\"A\")\n",
    "elif (80<=marks>=60):\n",
    "    print(\"B\")\n",
    "elif (60<=marks>=50):\n",
    "    print(\"C\")\n",
    "elif (50<=marks>=45):\n",
    "    print(\"D\")\n",
    "elif (45<=marks>=25):\n",
    "    print(\"E\")\n",
    "elif (marks<=25):\n",
    "    print(\"F\")"
   ]
  },
  {
   "cell_type": "code",
   "execution_count": 33,
   "metadata": {},
   "outputs": [
    {
     "name": "stdout",
     "output_type": "stream",
     "text": [
      "enter the classes attend 12\n",
      "he cannot sit in the exam\n"
     ]
    }
   ],
   "source": [
    "x = int(input(\"enter the classes attend \"))\n",
    "y = ((x*270)/100)\n",
    "if (y>=75):\n",
    "    print(\" he sit in exam \")\n",
    "else:\n",
    "    print(\"he cannot sit in the exam\")"
   ]
  },
  {
   "cell_type": "code",
   "execution_count": 1,
   "metadata": {},
   "outputs": [
    {
     "name": "stdout",
     "output_type": "stream",
     "text": [
      "{1: 'rakhi', 2: 'chocolate', 3: 'shashwat', 4: 'saloni'}\n"
     ]
    }
   ],
   "source": [
    "D = {1:\"rakhi\",2:\"chocolate\",3:\"shashwat\",4:\"saloni\"}\n",
    "print(D)"
   ]
  },
  {
   "cell_type": "code",
   "execution_count": 2,
   "metadata": {},
   "outputs": [
    {
     "ename": "SyntaxError",
     "evalue": "invalid non-printable character U+202F (<ipython-input-2-be10c1f4afca>, line 2)",
     "output_type": "error",
     "traceback": [
      "\u001b[1;36m  File \u001b[1;32m\"<ipython-input-2-be10c1f4afca>\"\u001b[1;36m, line \u001b[1;32m2\u001b[0m\n\u001b[1;33m    while (c < 3):\u001b[0m\n\u001b[1;37m                  ^\u001b[0m\n\u001b[1;31mSyntaxError\u001b[0m\u001b[1;31m:\u001b[0m invalid non-printable character U+202F\n"
     ]
    }
   ],
   "source": [
    "c = 0 \n",
    "while (c < 3):     \n",
    "    print(\"rakhi who are you\") \n",
    "    c = c + 1\n",
    " "
   ]
  },
  {
   "cell_type": "code",
   "execution_count": 11,
   "metadata": {},
   "outputs": [
    {
     "name": "stdout",
     "output_type": "stream",
     "text": [
      "Hello rakhi\n",
      "Hello rakhi\n",
      "Hello rakhi\n",
      "Hello rakhi\n",
      "Hello rakhi\n"
     ]
    }
   ],
   "source": [
    "count = 0\n",
    "while (count < 5): \n",
    "    count += 1; \n",
    "    print(\"Hello rakhi\") "
   ]
  },
  {
   "cell_type": "code",
   "execution_count": 3,
   "metadata": {},
   "outputs": [
    {
     "name": "stdout",
     "output_type": "stream",
     "text": [
      "-4\n",
      "-3\n",
      "-2\n",
      "-1\n",
      "0\n",
      "1\n",
      "2\n",
      "3\n"
     ]
    }
   ],
   "source": [
    "n = 4\n",
    "for i in range(-4,n):\n",
    "    print(i)\n",
    " "
   ]
  },
  {
   "cell_type": "code",
   "execution_count": 8,
   "metadata": {},
   "outputs": [
    {
     "name": "stdout",
     "output_type": "stream",
     "text": [
      "hello i am rakhi\n",
      "hello i am rakhi\n",
      "hello i am rakhi\n",
      " shashwat \n"
     ]
    }
   ],
   "source": [
    "v = 0\n",
    "while v < 3:\n",
    "    print(\"hello i am rakhi\")\n",
    "    v = v + 1\n",
    "else:\n",
    "    print(\" shashwat \")"
   ]
  },
  {
   "cell_type": "code",
   "execution_count": 10,
   "metadata": {},
   "outputs": [
    {
     "name": "stdout",
     "output_type": "stream",
     "text": [
      "<class 'set'>\n"
     ]
    }
   ],
   "source": [
    "l = [\"apple\", \"banana\", \"cherry\", \"apple\", \"cherry\"]\n",
    "s = {\"apple\", \"banana\", \"cherry\", \"apple\", \"cherry\"}\n",
    "print(type(s))"
   ]
  },
  {
   "cell_type": "code",
   "execution_count": 12,
   "metadata": {},
   "outputs": [
    {
     "name": "stdout",
     "output_type": "stream",
     "text": [
      "77\n"
     ]
    }
   ],
   "source": [
    "student_name = 'komal'\n",
    "\n",
    "marks = {'kanika': 90, 'shashwat': 55, 'komal': 77}\n",
    "\n",
    "for student in marks:\n",
    "    if student == student_name:\n",
    "        print(marks[student])\n",
    "        break\n",
    "else:\n",
    "    print('No entry with that name found.')"
   ]
  },
  {
   "cell_type": "code",
   "execution_count": 18,
   "metadata": {},
   "outputs": [
    {
     "name": "stdout",
     "output_type": "stream",
     "text": [
      "0\n",
      "1\n",
      "2\n",
      "3\n",
      "4\n",
      "5\n",
      "6\n",
      "7\n",
      "8\n",
      "9\n",
      "10\n",
      "11\n",
      "12\n",
      "13\n",
      "14\n",
      "15\n",
      "16\n",
      "17\n",
      "18\n",
      "19\n"
     ]
    }
   ],
   "source": [
    "for i in range(20):\n",
    "    print(i)\n",
    "\n",
    "        \n",
    "        "
   ]
  },
  {
   "cell_type": "code",
   "execution_count": 21,
   "metadata": {},
   "outputs": [
    {
     "name": "stdout",
     "output_type": "stream",
     "text": [
      "-2,-5,-8,-11,-14,-17,-20,-23,-26,-29,"
     ]
    }
   ],
   "source": [
    "for num in range(-2,-30,-3):\n",
    "    print(num, end=\",\")"
   ]
  },
  {
   "cell_type": "code",
   "execution_count": 23,
   "metadata": {},
   "outputs": [
    {
     "name": "stdout",
     "output_type": "stream",
     "text": [
      "enter the muner of rows :5\n",
      "$ $ $ $ $ \n",
      "$ $ $ $ $ \n",
      "$ $ $ $ $ \n",
      "$ $ $ $ $ \n",
      "$ $ $ $ $ \n"
     ]
    }
   ],
   "source": [
    "mun = int(input(\"enter the muner of rows :\"))\n",
    "for i in range(mun):\n",
    "    for j in range(mun):\n",
    "        print(\"$\", end=\" \")\n",
    "    print()"
   ]
  },
  {
   "cell_type": "code",
   "execution_count": 30,
   "metadata": {},
   "outputs": [
    {
     "name": "stdout",
     "output_type": "stream",
     "text": [
      "\n",
      " * \n",
      " *  * \n",
      " *  *  * \n",
      " *  *  *  * \n",
      " *  *  * \n",
      " *  * \n",
      " * \n"
     ]
    }
   ],
   "source": [
    "n=4;\n",
    "for i in range(n):\n",
    "    for j in range(i):\n",
    "        print (' * ', end=\"\")\n",
    "    print('')\n",
    "\n",
    "for i in range(n,0,-1):\n",
    "    for j in range(i):\n",
    "        print(' * ', end=\"\")\n",
    "    print('')"
   ]
  },
  {
   "cell_type": "code",
   "execution_count": 2,
   "metadata": {},
   "outputs": [
    {
     "name": "stdout",
     "output_type": "stream",
     "text": [
      "0\n",
      "1\n",
      "2\n",
      "3\n",
      "4\n",
      "5\n",
      "6\n",
      "7\n",
      "8\n",
      "9\n",
      "10\n",
      "11\n",
      "12\n",
      "13\n",
      "14\n",
      "15\n",
      "16\n",
      "17\n",
      "18\n",
      "19\n",
      "20\n",
      "21\n",
      "22\n",
      "23\n",
      "24\n",
      "25\n",
      "26\n",
      "27\n",
      "28\n",
      "29\n",
      "30\n",
      "31\n",
      "32\n",
      "33\n",
      "34\n",
      "35\n",
      "36\n",
      "37\n",
      "38\n",
      "39\n",
      "40\n",
      "41\n",
      "42\n",
      "43\n",
      "44\n",
      "45\n",
      "46\n",
      "47\n",
      "48\n",
      "49\n",
      "50\n"
     ]
    }
   ],
   "source": [
    "for i in range(0,51):\n",
    "    print(i)\n",
    "    "
   ]
  },
  {
   "cell_type": "code",
   "execution_count": null,
   "metadata": {},
   "outputs": [],
   "source": [
    "\n",
    "    \n",
    "    \n",
    "    "
   ]
  },
  {
   "cell_type": "code",
   "execution_count": null,
   "metadata": {},
   "outputs": [],
   "source": []
  },
  {
   "cell_type": "code",
   "execution_count": 1,
   "metadata": {},
   "outputs": [
    {
     "name": "stdout",
     "output_type": "stream",
     "text": [
      " @ *\n",
      "*\n",
      "*\n",
      " @ *\n",
      "*\n",
      "*\n",
      " @ *\n",
      "*\n",
      "*\n"
     ]
    }
   ],
   "source": [
    "m = 3\n",
    "for i in range(m):\n",
    "    print(' @ ',end=\"\")\n",
    "    \n",
    "    for j in range(m):\n",
    "        print('*')\n"
   ]
  },
  {
   "cell_type": "code",
   "execution_count": 7,
   "metadata": {},
   "outputs": [
    {
     "name": "stdout",
     "output_type": "stream",
     "text": [
      "\n",
      "\n",
      "\n",
      "\n",
      "\n"
     ]
    }
   ],
   "source": [
    "n= 5\n",
    "for i in range(0,n):\n",
    "    for j in range(0,n,-1):\n",
    "        print('* ',end=\"\")\n",
    "    print()"
   ]
  },
  {
   "cell_type": "code",
   "execution_count": 11,
   "metadata": {},
   "outputs": [
    {
     "data": {
      "text/plain": [
       "1.2"
      ]
     },
     "execution_count": 11,
     "metadata": {},
     "output_type": "execute_result"
    }
   ],
   "source": [
    "#ques1\n",
    "m = [2.5,6.5,1.2,5.5,2.3,4.5]\n",
    "max(m)\n",
    "min(m)"
   ]
  },
  {
   "cell_type": "code",
   "execution_count": 13,
   "metadata": {},
   "outputs": [
    {
     "name": "stdout",
     "output_type": "stream",
     "text": [
      "1\n",
      "2\n",
      "fizz\n",
      "3\n",
      "4\n",
      "buzz\n",
      "5\n",
      "fizz\n",
      "6\n",
      "7\n",
      "8\n",
      "fizz\n",
      "9\n",
      "buzz\n",
      "10\n",
      "11\n",
      "fizz\n",
      "12\n",
      "13\n",
      "14\n",
      "fizz\n",
      "15\n",
      "16\n",
      "17\n",
      "fizz\n",
      "18\n",
      "19\n",
      "buzz\n",
      "20\n",
      "fizz\n",
      "21\n",
      "22\n",
      "23\n",
      "fizz\n",
      "24\n",
      "buzz\n",
      "25\n",
      "26\n",
      "fizz\n",
      "27\n",
      "28\n",
      "29\n",
      "fizz\n",
      "30\n",
      "31\n",
      "32\n",
      "fizz\n",
      "33\n",
      "34\n",
      "buzz\n",
      "35\n",
      "fizz\n",
      "36\n",
      "37\n",
      "38\n",
      "fizz\n",
      "39\n",
      "buzz\n",
      "40\n",
      "41\n",
      "fizz\n",
      "42\n",
      "43\n",
      "44\n",
      "fizz\n",
      "45\n",
      "46\n",
      "47\n",
      "fizz\n",
      "48\n",
      "49\n",
      "buzz\n",
      "50\n"
     ]
    }
   ],
   "source": [
    "#ques4\n",
    "for f in range(1,51):\n",
    "    if (f%3==0):\n",
    "        print(\"fizz\")\n",
    "\n",
    "    elif (f%5==0):\n",
    "        print(\"buzz\")\n",
    "    elif (f%3==0 and f%5==0):\n",
    "        print(\"fizzbuzz\")\n",
    "    print(f)"
   ]
  },
  {
   "cell_type": "code",
   "execution_count": 21,
   "metadata": {},
   "outputs": [
    {
     "name": "stdout",
     "output_type": "stream",
     "text": [
      "even 100\n",
      "101\n",
      "even 102\n",
      "103\n",
      "even 104\n",
      "105\n",
      "even 106\n",
      "107\n",
      "even 108\n",
      "109\n",
      "even 110\n",
      "111\n",
      "even 112\n",
      "113\n",
      "even 114\n",
      "115\n",
      "even 116\n",
      "117\n",
      "even 118\n",
      "119\n",
      "even 120\n",
      "121\n",
      "even 122\n",
      "123\n",
      "even 124\n",
      "125\n",
      "even 126\n",
      "127\n",
      "even 128\n",
      "129\n",
      "even 130\n",
      "131\n",
      "even 132\n",
      "133\n",
      "even 134\n",
      "135\n",
      "even 136\n",
      "137\n",
      "even 138\n",
      "139\n",
      "even 140\n",
      "141\n",
      "even 142\n",
      "143\n",
      "even 144\n",
      "145\n",
      "even 146\n",
      "147\n",
      "even 148\n",
      "149\n",
      "even 150\n",
      "151\n",
      "even 152\n",
      "153\n",
      "even 154\n",
      "155\n",
      "even 156\n",
      "157\n",
      "even 158\n",
      "159\n",
      "even 160\n",
      "161\n",
      "even 162\n",
      "163\n",
      "even 164\n",
      "165\n",
      "even 166\n",
      "167\n",
      "even 168\n",
      "169\n",
      "even 170\n",
      "171\n",
      "even 172\n",
      "173\n",
      "even 174\n",
      "175\n",
      "even 176\n",
      "177\n",
      "even 178\n",
      "179\n",
      "even 180\n",
      "181\n",
      "even 182\n",
      "183\n",
      "even 184\n",
      "185\n",
      "even 186\n",
      "187\n",
      "even 188\n",
      "189\n",
      "even 190\n",
      "191\n",
      "even 192\n",
      "193\n",
      "even 194\n",
      "195\n",
      "even 196\n",
      "197\n",
      "even 198\n",
      "199\n",
      "even 200\n",
      "201\n",
      "even 202\n",
      "203\n",
      "even 204\n",
      "205\n",
      "even 206\n",
      "207\n",
      "even 208\n",
      "209\n",
      "even 210\n",
      "211\n",
      "even 212\n",
      "213\n",
      "even 214\n",
      "215\n",
      "even 216\n",
      "217\n",
      "even 218\n",
      "219\n",
      "even 220\n",
      "221\n",
      "even 222\n",
      "223\n",
      "even 224\n",
      "225\n",
      "even 226\n",
      "227\n",
      "even 228\n",
      "229\n",
      "even 230\n",
      "231\n",
      "even 232\n",
      "233\n",
      "even 234\n",
      "235\n",
      "even 236\n",
      "237\n",
      "even 238\n",
      "239\n",
      "even 240\n",
      "241\n",
      "even 242\n",
      "243\n",
      "even 244\n",
      "245\n",
      "even 246\n",
      "247\n",
      "even 248\n",
      "249\n",
      "even 250\n",
      "251\n",
      "even 252\n",
      "253\n",
      "even 254\n",
      "255\n",
      "even 256\n",
      "257\n",
      "even 258\n",
      "259\n",
      "even 260\n",
      "261\n",
      "even 262\n",
      "263\n",
      "even 264\n",
      "265\n",
      "even 266\n",
      "267\n",
      "even 268\n",
      "269\n",
      "even 270\n",
      "271\n",
      "even 272\n",
      "273\n",
      "even 274\n",
      "275\n",
      "even 276\n",
      "277\n",
      "even 278\n",
      "279\n",
      "even 280\n",
      "281\n",
      "even 282\n",
      "283\n",
      "even 284\n",
      "285\n",
      "even 286\n",
      "287\n",
      "even 288\n",
      "289\n",
      "even 290\n",
      "291\n",
      "even 292\n",
      "293\n",
      "even 294\n",
      "295\n",
      "even 296\n",
      "297\n",
      "even 298\n",
      "299\n",
      "even 300\n",
      "301\n",
      "even 302\n",
      "303\n",
      "even 304\n",
      "305\n",
      "even 306\n",
      "307\n",
      "even 308\n",
      "309\n",
      "even 310\n",
      "311\n",
      "even 312\n",
      "313\n",
      "even 314\n",
      "315\n",
      "even 316\n",
      "317\n",
      "even 318\n",
      "319\n",
      "even 320\n",
      "321\n",
      "even 322\n",
      "323\n",
      "even 324\n",
      "325\n",
      "even 326\n",
      "327\n",
      "even 328\n",
      "329\n",
      "even 330\n",
      "331\n",
      "even 332\n",
      "333\n",
      "even 334\n",
      "335\n",
      "even 336\n",
      "337\n",
      "even 338\n",
      "339\n",
      "even 340\n",
      "341\n",
      "even 342\n",
      "343\n",
      "even 344\n",
      "345\n",
      "even 346\n",
      "347\n",
      "even 348\n",
      "349\n",
      "even 350\n",
      "351\n",
      "even 352\n",
      "353\n",
      "even 354\n",
      "355\n",
      "even 356\n",
      "357\n",
      "even 358\n",
      "359\n",
      "even 360\n",
      "361\n",
      "even 362\n",
      "363\n",
      "even 364\n",
      "365\n",
      "even 366\n",
      "367\n",
      "even 368\n",
      "369\n",
      "even 370\n",
      "371\n",
      "even 372\n",
      "373\n",
      "even 374\n",
      "375\n",
      "even 376\n",
      "377\n",
      "even 378\n",
      "379\n",
      "even 380\n",
      "381\n",
      "even 382\n",
      "383\n",
      "even 384\n",
      "385\n",
      "even 386\n",
      "387\n",
      "even 388\n",
      "389\n",
      "even 390\n",
      "391\n",
      "even 392\n",
      "393\n",
      "even 394\n",
      "395\n",
      "even 396\n",
      "397\n",
      "even 398\n",
      "399\n",
      "even 400\n"
     ]
    }
   ],
   "source": [
    "#ques5\n",
    "for n in range(100,401):\n",
    "    if (n%2==0):\n",
    "        print(\"even\",end=\" \")\n",
    "    print(n)"
   ]
  },
  {
   "cell_type": "code",
   "execution_count": 24,
   "metadata": {},
   "outputs": [
    {
     "name": "stdout",
     "output_type": "stream",
     "text": [
      "**** **** **** **** **** **** **** "
     ]
    }
   ],
   "source": [
    "for i in range(7):\n",
    "    for j in range(3):\n",
    "        print(\"*\",end=\"\")\n",
    "    print(\"* \",end=\"\")"
   ]
  },
  {
   "cell_type": "code",
   "execution_count": 1,
   "metadata": {},
   "outputs": [
    {
     "name": "stdout",
     "output_type": "stream",
     "text": [
      "\n",
      "     ***\n",
      "    *   *\n",
      "    *   * \n",
      "    *****\n",
      "    *   *\n",
      "    *   *\n",
      "    *   *\n",
      "    \n"
     ]
    }
   ],
   "source": [
    "print(\"\"\"\n",
    "     ***\n",
    "    *   *\n",
    "    *   * \n",
    "    *****\n",
    "    *   *\n",
    "    *   *\n",
    "    *   *\n",
    "    \"\"\")"
   ]
  },
  {
   "cell_type": "code",
   "execution_count": null,
   "metadata": {},
   "outputs": [],
   "source": []
  }
 ],
 "metadata": {
  "kernelspec": {
   "display_name": "Python 3",
   "language": "python",
   "name": "python3"
  },
  "language_info": {
   "codemirror_mode": {
    "name": "ipython",
    "version": 3
   },
   "file_extension": ".py",
   "mimetype": "text/x-python",
   "name": "python",
   "nbconvert_exporter": "python",
   "pygments_lexer": "ipython3",
   "version": "3.9.0"
  }
 },
 "nbformat": 4,
 "nbformat_minor": 4
}
